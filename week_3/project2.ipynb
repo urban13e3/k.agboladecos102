{
 "cells": [
  {
   "cell_type": "code",
   "execution_count": 3,
   "metadata": {},
   "outputs": [
    {
     "ename": "ModuleNotFoundError",
     "evalue": "No module named 'numpy'",
     "output_type": "error",
     "traceback": [
      "\u001b[1;31m---------------------------------------------------------------------------\u001b[0m",
      "\u001b[1;31mModuleNotFoundError\u001b[0m                       Traceback (most recent call last)",
      "Cell \u001b[1;32mIn[3], line 1\u001b[0m\n\u001b[1;32m----> 1\u001b[0m \u001b[38;5;28;01mimport\u001b[39;00m \u001b[38;5;21;01mnumpy\u001b[39;00m \u001b[38;5;28;01mas\u001b[39;00m \u001b[38;5;21;01mnp\u001b[39;00m\n\u001b[0;32m      3\u001b[0m \u001b[38;5;28;01mdef\u001b[39;00m \u001b[38;5;21mcubic_equation_roots\u001b[39m(coefficients):\n\u001b[0;32m      4\u001b[0m     roots \u001b[38;5;241m=\u001b[39m np\u001b[38;5;241m.\u001b[39mroots(coefficients)\n",
      "\u001b[1;31mModuleNotFoundError\u001b[0m: No module named 'numpy'"
     ]
    }
   ],
   "source": [
    "import numpy as np\n",
    "\n",
    "def cubic_equation_roots(coefficients):\n",
    "    roots = np.roots(coefficients)\n",
    "    return roots\n",
    "\n",
    "def quadratic_equation_roots(coefficients):\n",
    "    roots = np.roots(coefficients)\n",
    "    return roots\n",
    "\n",
    "def main():\n",
    "    print(\"Welcome to the root finder program!\")\n",
    "    print(\"Which operation would you like to perform?\")\n",
    "    print(\"1. Find roots of a cubic equation\")\n",
    "    print(\"2. Find roots of a quadratic equation\")\n",
    "    \n",
    "    choice = input(\"Enter your choice (1 or 2): \")\n",
    "    \n",
    "    if choice == '1':\n",
    "        A = float(input(\"Enter coefficient of x^3: \"))\n",
    "        B = float(input(\"Enter coefficient of x^2: \"))\n",
    "        C = float(input(\"Enter coefficient of x: \"))\n",
    "        D = float(input(\"Enter constant term: \"))\n",
    "        \n",
    "        coefficients = [A, B, C, D]\n",
    "        roots = cubic_equation_roots(coefficients)\n",
    "        print(\"The roots of the cubic equation are:\", roots)\n",
    "    elif choice == '2':\n",
    "        A = float(input(\"Enter coefficient of x^2: \"))\n",
    "        B = float(input(\"Enter coefficient of x: \"))\n",
    "        C = float(input(\"Enter constant term: \"))\n",
    "        \n",
    "        coefficients = [A, B, C]\n",
    "        roots = quadratic_equation_roots(coefficients)\n",
    "        print(\"The roots of the quadratic equation are:\", roots)\n",
    "    else:\n",
    "        print(\"Invalid choice! Please enter either '1' or '2'.\")\n",
    "\n",
    "if __name__ == \"__main__\":\n",
    "    main()\n"
   ]
  }
 ],
 "metadata": {
  "kernelspec": {
   "display_name": "Python 3",
   "language": "python",
   "name": "python3"
  },
  "language_info": {
   "codemirror_mode": {
    "name": "ipython",
    "version": 3
   },
   "file_extension": ".py",
   "mimetype": "text/x-python",
   "name": "python",
   "nbconvert_exporter": "python",
   "pygments_lexer": "ipython3",
   "version": "3.11.8"
  }
 },
 "nbformat": 4,
 "nbformat_minor": 2
}
