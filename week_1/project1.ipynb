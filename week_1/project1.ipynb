{
 "cells": [
  {
   "cell_type": "code",
   "execution_count": 1,
   "metadata": {},
   "outputs": [
    {
     "name": "stdout",
     "output_type": "stream",
     "text": [
      "Simple interest (A): 210500.0\n"
     ]
    }
   ],
   "source": [
    "def simple_interest(P, r, T):\n",
    "    A = P * (1 + (r/100) * T)\n",
    "    return A\n",
    "\n",
    "P = float(input(\"Enter principal amount (P): \"))\n",
    "r = float(input(\"Enter interest rate (r): \"))\n",
    "T = float(input(\"Enter time period (T): \"))\n",
    "\n",
    "A = simple_interest(P, r, T)\n",
    "print(\"Simple interest (A):\", A)\n",
    "\n"
   ]
  },
  {
   "cell_type": "code",
   "execution_count": null,
   "metadata": {},
   "outputs": [],
   "source": [
    "def compound_interest(P, r, n, t):\n",
    "    A = P * (1 + r/n)**(n*t)\n",
    "    return A\n",
    "\n",
    "P = float(input(\"Enter principal amount (P): \"))\n",
    "r = float(input(\"Enter interest rate (r): \"))\n",
    "n = int(input(\"Enter number of times interest is compounded per year (n): \"))\n",
    "t = float(input(\"Enter time period in years (t): \"))\n",
    "\n",
    "A = compound_interest(P, r, n, t)\n",
    "print(\"Compound interest (A):\", A)\n"
   ]
  },
  {
   "cell_type": "code",
   "execution_count": null,
   "metadata": {},
   "outputs": [],
   "source": [
    "def annuity_plan(PMT, R, n, t):\n",
    "    A = PMT * ((1 + R/n)**(n*t) - 1) / (R/n)\n",
    "    return A\n",
    "\n",
    "PMT = float(input(\"Enter payment amount per period (PMT): \"))\n",
    "R = float(input(\"Enter interest rate (R): \"))\n",
    "n = int(input(\"Enter number of times interest is compounded per year (n): \"))\n",
    "t = float(input(\"Enter time period in years (t): \"))\n",
    "\n",
    "A = annuity_plan(PMT, R, n, t)\n",
    "print(\"Annuity (A):\", A)\n"
   ]
  }
 ],
 "metadata": {
  "kernelspec": {
   "display_name": "Python 3",
   "language": "python",
   "name": "python3"
  },
  "language_info": {
   "codemirror_mode": {
    "name": "ipython",
    "version": 3
   },
   "file_extension": ".py",
   "mimetype": "text/x-python",
   "name": "python",
   "nbconvert_exporter": "python",
   "pygments_lexer": "ipython3",
   "version": "3.11.8"
  }
 },
 "nbformat": 4,
 "nbformat_minor": 2
}
