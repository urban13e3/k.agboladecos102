{
 "cells": [
  {
   "cell_type": "code",
   "execution_count": 4,
   "metadata": {},
   "outputs": [],
   "source": [
    "import tkinter as tk\n",
    "from tkinter import messagebox\n",
    "from PIL import Image, ImageTk\n",
    "\n",
    "def check_admission():\n",
    "    department = entry_department.get()\n",
    "    jamb_score = int(entry_jamb.get() )\n",
    "\n",
    "\n",
    "    if department == 'Computer Science':\n",
    "        if jamb_score >= 250:\n",
    "            messagebox.showinfo(\"Admission Status\", 'Congratulations, You have been admitted into the Computer Science Department')\n",
    "        else:\n",
    "            messagebox.showinfo(\"Admission Status\", 'Sorry, you didnt meet the admission criteria for the Computer Science Department')\n",
    "    elif department == 'Mass Communication':\n",
    "        if jamb_score >= 230:\n",
    "            messagebox.showinfo('Admission Status', 'Congratulations, You have been admitted into the Mass Communication Department')\n",
    "        else:\n",
    "            messagebox.showinfo(\"Admission Status\", 'Sorry, You didnt meet the admission criteria for the Mass Communication Department')\n",
    "    else:\n",
    "        messagebox.showerror(\"Invalid department selected\", \"(Computer Science or Mass Communication)\")\n",
    "\n",
    "root = tk.Tk()\n",
    "root.title(\"Admission Checker\")\n",
    "root.geometry('500x200')\n",
    "\n",
    "department_label = tk.Label(root, text='Enter Department: ')\n",
    "department_label.pack()\n",
    "entry_department = tk.Entry(root)\n",
    "entry_department.pack()\n",
    "\n",
    "jamb_score_label = tk.Label(root, text= 'Enter JAMB Score: ')\n",
    "jamb_score_label.pack()\n",
    "entry_jamb = tk.Entry(root)\n",
    "entry_jamb.pack()\n",
    "\n",
    "check_admission_button = tk.Button(root, text='Check Admission', command=check_admission)\n",
    "check_admission_button.pack()\n",
    "\n",
    "root.mainloop()\n"
   ]
  }
 ],
 "metadata": {
  "kernelspec": {
   "display_name": "Python 3",
   "language": "python",
   "name": "python3"
  },
  "language_info": {
   "codemirror_mode": {
    "name": "ipython",
    "version": 3
   },
   "file_extension": ".py",
   "mimetype": "text/x-python",
   "name": "python",
   "nbconvert_exporter": "python",
   "pygments_lexer": "ipython3",
   "version": "3.11.9"
  }
 },
 "nbformat": 4,
 "nbformat_minor": 2
}
