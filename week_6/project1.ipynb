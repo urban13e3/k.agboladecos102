{
 "cells": [
  {
   "cell_type": "code",
   "execution_count": 4,
   "metadata": {},
   "outputs": [],
   "source": [
    "import tkinter as tk\n",
    "from tkinter import messagebox\n",
    "from PIL import Image, ImageTk\n",
    "\n",
    "def submit():\n",
    "    location = location_entry.get()\n",
    "    weight = int(weight_entry.get())\n",
    "\n",
    "    if location == \"Ibeju-Lekki\":\n",
    "        if weight >= 10:\n",
    "            price = 5000\n",
    "        else:\n",
    "            price = 3500\n",
    "    elif location == \"Epe\":\n",
    "        if weight >= 10:\n",
    "            price = 10000\n",
    "        else:\n",
    "            price = 5000\n",
    "    else:\n",
    "        messagebox.showerror(\"Error\", \"Invalid location\")\n",
    "        return\n",
    "\n",
    "    messagebox.showinfo(\"Delivery Cost\", f\"The delivery cost to {location} for a {weight}KG package is ₦{price}\")\n",
    "\n",
    "\n",
    "root = tk.Tk()\n",
    "root.title(\"Simi Services: \")\n",
    "root.geometry(\"500x200\")\n",
    "\n",
    "location_label = tk.Label(root, text = \"Location: \")\n",
    "location_label.pack()\n",
    "location_entry = tk.Entry(root)\n",
    "location_entry.pack()\n",
    "\n",
    "weight_label = tk.Label(root, text = \"Weight: \" )\n",
    "weight_label.pack()\n",
    "weight_entry = tk.Entry(root)\n",
    "weight_entry.pack()\n",
    "\n",
    "submit_button = tk.Button(root, text = \"Submit\", command=submit)\n",
    "submit_button.pack()\n",
    "\n",
    "root.mainloop()"
   ]
  }
 ],
 "metadata": {
  "kernelspec": {
   "display_name": "Python 3",
   "language": "python",
   "name": "python3"
  },
  "language_info": {
   "codemirror_mode": {
    "name": "ipython",
    "version": 3
   },
   "file_extension": ".py",
   "mimetype": "text/x-python",
   "name": "python",
   "nbconvert_exporter": "python",
   "pygments_lexer": "ipython3",
   "version": "3.11.9"
  }
 },
 "nbformat": 4,
 "nbformat_minor": 2
}
