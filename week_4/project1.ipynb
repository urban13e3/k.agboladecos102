{
 "cells": [
  {
   "cell_type": "code",
   "execution_count": 8,
   "metadata": {},
   "outputs": [
    {
     "name": "stdout",
     "output_type": "stream",
     "text": [
      "Girls: \n",
      "Name | Age | Height | Score \n",
      "Evelyn | 17 | 5.5 | 80\n",
      "Jessica | 16 | 6.0 | 85\n",
      "Somoto | 17 | 5.4 | 70\n",
      "Edith | 18 | 5.9 | 60\n",
      "Liza | 16 | 5.6 | 76\n",
      "Madonna | 18 | 5.5 | 66\n",
      "Waje | 17 | 6.1 | 87\n",
      "Tola | 20 | 6.0 | 95\n",
      "Aisha | 19 | 5.7 | 50\n",
      "Latifa | 17 | 5.5 | 49\n",
      "\n",
      "\n",
      "Boys: \n",
      "Name | Age | Height | Score \n",
      "Chinedu | 19 | 5.7 | 74\n",
      "Liam | 16 | 5.9 | 87\n",
      "Wale | 18 | 5.8 | 75\n",
      "Gbenga | 17 | 6.1 | 68\n",
      "Abiola | 20 | 5.9 | 66\n",
      "Kola | 19 | 5.5 | 78\n",
      "Kunle | 16 | 6.1 | 87\n",
      "George | 18 | 5.4 | 98\n",
      "Thomas | 17 | 5.8 | 54\n",
      "Wesley | 19 | 5.7 | 60\n"
     ]
    }
   ],
   "source": [
    "girls = {'Evelyn': {'age': 17, 'height': 5.5, 'scores': 80},\n",
    "         'Jessica': {'age': 16, 'height': 6.0, 'scores': 85},\n",
    "         'Somoto': {'age': 17, 'height': 5.4, 'scores': 70},\n",
    "         'Edith': {'age': 18, 'height': 5.9, 'scores': 60},\n",
    "         'Liza': {'age': 16, 'height': 5.6, 'scores': 76},\n",
    "         'Madonna': {'age': 18, 'height': 5.5, 'scores': 66},\n",
    "         'Waje': {'age': 17, 'height': 6.1, 'scores': 87},\n",
    "         'Tola': {'age': 20, 'height': 6.0, 'scores': 95},\n",
    "         'Aisha': {'age': 19, 'height': 5.7, 'scores': 50},\n",
    "         'Latifa': {'age': 17, 'height': 5.5, 'scores': 49}}\n",
    "\n",
    "boys = {'Chinedu': {'age': 19, 'height': 5.7, 'scores': 74},\n",
    "        'Liam': {'age': 16, 'height': 5.9, 'scores': 87},\n",
    "        'Wale': {'age': 18, 'height': 5.8, 'scores': 75},\n",
    "        'Gbenga': {'age': 17, 'height': 6.1, 'scores': 68},\n",
    "        'Abiola': {'age': 20, 'height': 5.9, 'scores':66},\n",
    "        'Kola': {'age': 19, 'height': 5.5, 'scores':78},\n",
    "        'Kunle': {'age':16, 'height':6.1, 'scores':87},\n",
    "        'George': {'age': 18, 'height':5.4, 'scores':98},\n",
    "        'Thomas': {'age':17, 'height':5.8, 'scores':54},\n",
    "        'Wesley': {'age':19, 'height':5.7, 'scores':60}}\n",
    "\n",
    "print(\"Girls: \")\n",
    "print(\"Name | Age | Height | Score \")\n",
    "for girl in girls:\n",
    "    print(girl, \"|\", girls[girl]['age'], \"|\", girls[girl]['height'], \"|\", girls[girl]['scores'])\n",
    "\n",
    "print('\\n')\n",
    "print(\"Boys: \")\n",
    "print(\"Name | Age | Height | Score \")\n",
    "for boy in boys:\n",
    "    print(boy, \"|\", boys[boy]['age'], \"|\", boys[boy]['height'], \"|\", boys[boy]['scores'])\n"
   ]
  }
 ],
 "metadata": {
  "kernelspec": {
   "display_name": "Python 3",
   "language": "python",
   "name": "python3"
  },
  "language_info": {
   "codemirror_mode": {
    "name": "ipython",
    "version": 3
   },
   "file_extension": ".py",
   "mimetype": "text/x-python",
   "name": "python",
   "nbconvert_exporter": "python",
   "pygments_lexer": "ipython3",
   "version": "3.11.undefined"
  }
 },
 "nbformat": 4,
 "nbformat_minor": 2
}
